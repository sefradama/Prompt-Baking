{
 "cells": [
  {
   "cell_type": "code",
   "execution_count": 1,
   "id": "3fce0c23",
   "metadata": {
    "execution": {
     "iopub.execute_input": "2025-10-02T07:33:29.858125Z",
     "iopub.status.busy": "2025-10-02T07:33:29.857592Z",
     "iopub.status.idle": "2025-10-02T07:48:23.168629Z",
     "shell.execute_reply": "2025-10-02T07:48:23.167847Z"
    },
    "executionInfo": {
     "elapsed": 1794977,
     "status": "ok",
     "timestamp": 1759317845691,
     "user": {
      "displayName": "Sam Birbeck",
      "userId": "09338901075895847279"
     },
     "user_tz": -570
    },
    "id": "f9KT9X8e-xe6",
    "outputId": "2d1bbc22-769e-4869-e754-38a711e81b6c",
    "papermill": {
     "duration": 893.315519,
     "end_time": "2025-10-02T07:48:23.170856",
     "exception": false,
     "start_time": "2025-10-02T07:33:29.855337",
     "status": "completed"
    },
    "tags": []
   },
   "outputs": [
    {
     "name": "stdout",
     "output_type": "stream",
     "text": [
      "Starting distributed training on 2 GPUs...\n",
      "Running data generation on 2 GPUs...\n",
      "Running on rank 0/2, local rank 0\n",
      "Running on rank 1/2, local rank 1\n",
      "Length of train_dataset:  88\n",
      "Generating 44 questions for both training and validation files (rank 0)\n",
      "Length of train_dataset:  88\n",
      "Generating 44 questions for both training and validation files (rank 1)\n",
      "Model loaded and moved to device: cuda:0\n",
      "Model device: cuda:0\n",
      "Model wrapped with DDP on rank 1\n",
      "Model wrapped with DDP on rank 0\n",
      "Training dataset saved to data/traj_chat.jsonl\n",
      "Validation dataset saved to data/traj_val.jsonl\n",
      "Rank 1 completed data generation (no file writing)\n",
      "Running training on 2 GPUs...\n",
      "Arguments saved to results/traj_chat/args.json\n",
      "Arguments saved to results/traj_chat/args.json\n",
      "Running training on rank 0/2, local rank 0\n",
      "Running training on rank 1/2, local rank 1\n",
      "Distributed training completed!\n"
     ]
    },
    {
     "name": "stderr",
     "output_type": "stream",
     "text": [
      "W1002 07:33:37.938000 43 torch/distributed/run.py:792] \n",
      "W1002 07:33:37.938000 43 torch/distributed/run.py:792] *****************************************\n",
      "W1002 07:33:37.938000 43 torch/distributed/run.py:792] Setting OMP_NUM_THREADS environment variable for each process to be 1 in default, to avoid your system being overloaded, please further tune the variable for optimal performance in your application as needed. \n",
      "W1002 07:33:37.938000 43 torch/distributed/run.py:792] *****************************************\n",
      "[W1002 07:33:45.006100912 socket.cpp:204] [c10d] The hostname of the client socket cannot be retrieved. err=-3\n",
      "[W1002 07:33:53.008562037 socket.cpp:204] [c10d] The hostname of the client socket cannot be retrieved. err=-3\n",
      "[W1002 07:34:10.758128183 socket.cpp:204] [c10d] The hostname of the client socket cannot be retrieved. err=-3\n",
      "[W1002 07:34:10.758178492 socket.cpp:204] [c10d] The hostname of the client socket cannot be retrieved. err=-3\n",
      "[W1002 07:34:18.760264127 socket.cpp:204] [c10d] The hostname of the client socket cannot be retrieved. err=-3\n",
      "[W1002 07:34:26.761927094 socket.cpp:204] [c10d] The hostname of the client socket cannot be retrieved. err=-3\n",
      "Generating train split: 88 examples [00:00, 2341.08 examples/s]\n",
      "2025-10-02 07:35:13.661766: E external/local_xla/xla/stream_executor/cuda/cuda_fft.cc:477] Unable to register cuFFT factory: Attempting to register factory for plugin cuFFT when one has already been registered\n",
      "2025-10-02 07:35:13.661760: E external/local_xla/xla/stream_executor/cuda/cuda_fft.cc:477] Unable to register cuFFT factory: Attempting to register factory for plugin cuFFT when one has already been registered\n",
      "WARNING: All log messages before absl::InitializeLog() is called are written to STDERR\n",
      "E0000 00:00:1759390514.056114      46 cuda_dnn.cc:8310] Unable to register cuDNN factory: Attempting to register factory for plugin cuDNN when one has already been registered\n",
      "WARNING: All log messages before absl::InitializeLog() is called are written to STDERR\n",
      "E0000 00:00:1759390514.056103      45 cuda_dnn.cc:8310] Unable to register cuDNN factory: Attempting to register factory for plugin cuDNN when one has already been registered\n",
      "E0000 00:00:1759390514.165455      46 cuda_blas.cc:1418] Unable to register cuBLAS factory: Attempting to register factory for plugin cuBLAS when one has already been registered\n",
      "E0000 00:00:1759390514.165469      45 cuda_blas.cc:1418] Unable to register cuBLAS factory: Attempting to register factory for plugin cuBLAS when one has already been registered\n",
      "Loading checkpoint shards: 100%|██████████| 2/2 [01:16<00:00, 38.27s/it]\n",
      "Loading checkpoint shards: 100%|██████████| 2/2 [01:16<00:00, 38.30s/it]\n",
      "100%|██████████| 44/44 [08:55<00:00, 12.18s/it]\n",
      "W1002 07:46:26.098000 93 torch/distributed/run.py:792] \n",
      "W1002 07:46:26.098000 93 torch/distributed/run.py:792] *****************************************\n",
      "W1002 07:46:26.098000 93 torch/distributed/run.py:792] Setting OMP_NUM_THREADS environment variable for each process to be 1 in default, to avoid your system being overloaded, please further tune the variable for optimal performance in your application as needed. \n",
      "W1002 07:46:26.098000 93 torch/distributed/run.py:792] *****************************************\n",
      "[W1002 07:46:34.149335637 socket.cpp:204] [c10d] The hostname of the client socket cannot be retrieved. err=-3\n",
      "[W1002 07:46:42.152065001 socket.cpp:204] [c10d] The hostname of the client socket cannot be retrieved. err=-3\n",
      "2025-10-02 07:46:48.159413: E external/local_xla/xla/stream_executor/cuda/cuda_fft.cc:477] Unable to register cuFFT factory: Attempting to register factory for plugin cuFFT when one has already been registered\n",
      "2025-10-02 07:46:48.159415: E external/local_xla/xla/stream_executor/cuda/cuda_fft.cc:477] Unable to register cuFFT factory: Attempting to register factory for plugin cuFFT when one has already been registered\n",
      "WARNING: All log messages before absl::InitializeLog() is called are written to STDERR\n",
      "WARNING: All log messages before absl::InitializeLog() is called are written to STDERR\n",
      "E0000 00:00:1759391208.181651      96 cuda_dnn.cc:8310] Unable to register cuDNN factory: Attempting to register factory for plugin cuDNN when one has already been registered\n",
      "E0000 00:00:1759391208.181652      95 cuda_dnn.cc:8310] Unable to register cuDNN factory: Attempting to register factory for plugin cuDNN when one has already been registered\n",
      "E0000 00:00:1759391208.188520      96 cuda_blas.cc:1418] Unable to register cuBLAS factory: Attempting to register factory for plugin cuBLAS when one has already been registered\n",
      "E0000 00:00:1759391208.188522      95 cuda_blas.cc:1418] Unable to register cuBLAS factory: Attempting to register factory for plugin cuBLAS when one has already been registered\n",
      "Generating train split: 1100 examples [00:00, 5151.31 examples/s]\n",
      "Generating train split: 1100 examples [00:00, 5502.03 examples/s]\n",
      "[W1002 07:48:04.255514827 socket.cpp:204] [c10d] The hostname of the client socket cannot be retrieved. err=-3\n",
      "[W1002 07:48:04.288486812 socket.cpp:204] [c10d] The hostname of the client socket cannot be retrieved. err=-3\n",
      "[W1002 07:48:12.257851912 socket.cpp:204] [c10d] The hostname of the client socket cannot be retrieved. err=-3\n",
      "[W1002 07:48:20.259904461 socket.cpp:204] [c10d] The hostname of the client socket cannot be retrieved. err=-3\n",
      "[rank0]: Traceback (most recent call last):\n",
      "[rank0]:   File \"/kaggle/working/train_loop.py\", line 329, in <module>\n",
      "[rank0]:     model = AutoModelForCausalLM.from_pretrained(\n",
      "[rank0]:             ^^^^^^^^^^^^^^^^^^^^\n",
      "[rank0]: NameError: name 'AutoModelForCausalLM' is not defined\n",
      "[rank1]: Traceback (most recent call last):\n",
      "[rank1]:   File \"/kaggle/working/train_loop.py\", line 329, in <module>\n",
      "[rank1]:     model = AutoModelForCausalLM.from_pretrained(\n",
      "[rank1]:             ^^^^^^^^^^^^^^^^^^^^\n",
      "[rank1]: NameError: name 'AutoModelForCausalLM' is not defined\n",
      "[rank0]:[W1002 07:48:21.650374499 ProcessGroupNCCL.cpp:1496] Warning: WARNING: destroy_process_group() was not called before program exit, which can leak resources. For more info, please see https://pytorch.org/docs/stable/distributed.html#shutdown (function operator())\n",
      "W1002 07:48:22.715000 93 torch/distributed/elastic/multiprocessing/api.py:897] Sending process 96 closing signal SIGTERM\n",
      "E1002 07:48:22.830000 93 torch/distributed/elastic/multiprocessing/api.py:869] failed (exitcode: 1) local_rank: 0 (pid: 95) of binary: /usr/bin/python3\n",
      "Traceback (most recent call last):\n",
      "  File \"/usr/local/bin/torchrun\", line 10, in <module>\n",
      "    sys.exit(main())\n",
      "             ^^^^^^\n",
      "  File \"/usr/local/lib/python3.11/dist-packages/torch/distributed/elastic/multiprocessing/errors/__init__.py\", line 355, in wrapper\n",
      "    return f(*args, **kwargs)\n",
      "           ^^^^^^^^^^^^^^^^^^\n",
      "  File \"/usr/local/lib/python3.11/dist-packages/torch/distributed/run.py\", line 918, in main\n",
      "    run(args)\n",
      "  File \"/usr/local/lib/python3.11/dist-packages/torch/distributed/run.py\", line 909, in run\n",
      "    elastic_launch(\n",
      "  File \"/usr/local/lib/python3.11/dist-packages/torch/distributed/launcher/api.py\", line 138, in __call__\n",
      "    return launch_agent(self._config, self._entrypoint, list(args))\n",
      "           ^^^^^^^^^^^^^^^^^^^^^^^^^^^^^^^^^^^^^^^^^^^^^^^^^^^^^^^^\n",
      "  File \"/usr/local/lib/python3.11/dist-packages/torch/distributed/launcher/api.py\", line 269, in launch_agent\n",
      "    raise ChildFailedError(\n",
      "torch.distributed.elastic.multiprocessing.errors.ChildFailedError: \n",
      "============================================================\n",
      "train_loop.py FAILED\n",
      "------------------------------------------------------------\n",
      "Failures:\n",
      "  <NO_OTHER_FAILURES>\n",
      "------------------------------------------------------------\n",
      "Root Cause (first observed failure):\n",
      "[0]:\n",
      "  time      : 2025-10-02_07:48:22\n",
      "  host      : a7540539885b\n",
      "  rank      : 0 (local_rank: 0)\n",
      "  exitcode  : 1 (pid: 95)\n",
      "  error_file: <N/A>\n",
      "  traceback : To enable traceback see: https://pytorch.org/docs/stable/elastic/errors.html\n",
      "============================================================\n"
     ]
    }
   ],
   "source": [
    "%%sh\n",
    "cp -r /kaggle/input/qwen3-prompt-baking/* /kaggle/working\n",
    "cd /kaggle/working/\n",
    "chmod +x run_distributed.sh\n",
    "./run_distributed.sh"
   ]
  }
 ],
 "metadata": {
  "accelerator": "GPU",
  "colab": {
   "gpuType": "T4",
   "provenance": [
    {
     "file_id": "/v2/external/notebooks/gpu.ipynb",
     "timestamp": 1759308377289
    }
   ]
  },
  "kaggle": {
   "accelerator": "nvidiaTeslaT4",
   "dataSources": [
    {
     "datasetId": 8387482,
     "sourceId": 13237445,
     "sourceType": "datasetVersion"
    },
    {
     "modelId": 322000,
     "modelInstanceId": 301511,
     "sourceId": 363131,
     "sourceType": "modelInstanceVersion"
    }
   ],
   "isGpuEnabled": true,
   "isInternetEnabled": false,
   "language": "python",
   "sourceType": "notebook"
  },
  "kernelspec": {
   "display_name": "Python 3",
   "language": "python",
   "name": "python3"
  },
  "language_info": {
   "codemirror_mode": {
    "name": "ipython",
    "version": 3
   },
   "file_extension": ".py",
   "mimetype": "text/x-python",
   "name": "python",
   "nbconvert_exporter": "python",
   "pygments_lexer": "ipython3",
   "version": "3.11.13"
  },
  "papermill": {
   "default_parameters": {},
   "duration": 899.664715,
   "end_time": "2025-10-02T07:48:23.391453",
   "environment_variables": {},
   "exception": null,
   "input_path": "__notebook__.ipynb",
   "output_path": "__notebook__.ipynb",
   "parameters": {},
   "start_time": "2025-10-02T07:33:23.726738",
   "version": "2.6.0"
  }
 },
 "nbformat": 4,
 "nbformat_minor": 5
}
