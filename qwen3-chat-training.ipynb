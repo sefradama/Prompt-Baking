{
 "cells": [
  {
   "cell_type": "code",
   "execution_count": 1,
   "id": "d017092d",
   "metadata": {
    "execution": {
     "iopub.execute_input": "2025-10-02T05:11:52.866882Z",
     "iopub.status.busy": "2025-10-02T05:11:52.866682Z",
     "iopub.status.idle": "2025-10-02T05:11:53.006807Z",
     "shell.execute_reply": "2025-10-02T05:11:53.006044Z"
    },
    "papermill": {
     "duration": 0.143709,
     "end_time": "2025-10-02T05:11:53.008059",
     "exception": false,
     "start_time": "2025-10-02T05:11:52.864350",
     "status": "completed"
    },
    "tags": []
   },
   "outputs": [],
   "source": [
    "%cp -r /kaggle/input/qwen3-prompt-baking/* /kaggle/working"
   ]
  },
  {
   "cell_type": "code",
   "execution_count": 2,
   "id": "01ba3702",
   "metadata": {
    "execution": {
     "iopub.execute_input": "2025-10-02T05:11:53.012861Z",
     "iopub.status.busy": "2025-10-02T05:11:53.012610Z",
     "iopub.status.idle": "2025-10-02T05:13:12.636323Z",
     "shell.execute_reply": "2025-10-02T05:13:12.635233Z"
    },
    "executionInfo": {
     "elapsed": 1794977,
     "status": "ok",
     "timestamp": 1759317845691,
     "user": {
      "displayName": "Sam Birbeck",
      "userId": "09338901075895847279"
     },
     "user_tz": -570
    },
    "id": "f9KT9X8e-xe6",
    "outputId": "2d1bbc22-769e-4869-e754-38a711e81b6c",
    "papermill": {
     "duration": 79.627411,
     "end_time": "2025-10-02T05:13:12.638036",
     "exception": false,
     "start_time": "2025-10-02T05:11:53.010625",
     "status": "completed"
    },
    "tags": []
   },
   "outputs": [
    {
     "name": "stdout",
     "output_type": "stream",
     "text": [
      "/kaggle/working\n",
      "Generating train split: 88 examples [00:00, 4463.70 examples/s]\r\n",
      "Length of train_dataset:  88\r\n",
      "Generating 88 questions for both training and validation files\r\n",
      "2025-10-02 05:12:37.513152: E external/local_xla/xla/stream_executor/cuda/cuda_fft.cc:477] Unable to register cuFFT factory: Attempting to register factory for plugin cuFFT when one has already been registered\r\n",
      "WARNING: All log messages before absl::InitializeLog() is called are written to STDERR\r\n",
      "E0000 00:00:1759381957.706143      47 cuda_dnn.cc:8310] Unable to register cuDNN factory: Attempting to register factory for plugin cuDNN when one has already been registered\r\n",
      "E0000 00:00:1759381957.758941      47 cuda_blas.cc:1418] Unable to register cuBLAS factory: Attempting to register factory for plugin cuBLAS when one has already been registered\r\n",
      "Loading checkpoint shards: 100%|██████████████████| 2/2 [00:18<00:00,  9.49s/it]\r\n",
      "  0%|                                                    | 0/88 [00:00<?, ?it/s]\r\n",
      "Traceback (most recent call last):\r\n",
      "  File \"/kaggle/working/generate_data.py\", line 115, in <module>\r\n",
      "    output = model.generate(\r\n",
      "             ^^^^^^^^^^^^^^^\r\n",
      "  File \"/usr/local/lib/python3.11/dist-packages/torch/utils/_contextlib.py\", line 120, in decorate_context\r\n",
      "    return func(*args, **kwargs)\r\n",
      "           ^^^^^^^^^^^^^^^^^^^^^\r\n",
      "  File \"/usr/local/lib/python3.11/dist-packages/transformers/generation/utils.py\", line 2597, in generate\r\n",
      "    result = self._sample(\r\n",
      "             ^^^^^^^^^^^^^\r\n",
      "  File \"/usr/local/lib/python3.11/dist-packages/transformers/generation/utils.py\", line 3557, in _sample\r\n",
      "    outputs = self(**model_inputs, return_dict=True)\r\n",
      "              ^^^^^^^^^^^^^^^^^^^^^^^^^^^^^^^^^^^^^^\r\n",
      "  File \"/usr/local/lib/python3.11/dist-packages/torch/nn/modules/module.py\", line 1773, in _wrapped_call_impl\r\n",
      "    return self._call_impl(*args, **kwargs)\r\n",
      "           ^^^^^^^^^^^^^^^^^^^^^^^^^^^^^^^^\r\n",
      "  File \"/usr/local/lib/python3.11/dist-packages/torch/nn/modules/module.py\", line 1784, in _call_impl\r\n",
      "    return forward_call(*args, **kwargs)\r\n",
      "           ^^^^^^^^^^^^^^^^^^^^^^^^^^^^^\r\n",
      "  File \"/usr/local/lib/python3.11/dist-packages/accelerate/hooks.py\", line 175, in new_forward\r\n",
      "    output = module._old_forward(*args, **kwargs)\r\n",
      "             ^^^^^^^^^^^^^^^^^^^^^^^^^^^^^^^^^^^^\r\n",
      "  File \"/usr/local/lib/python3.11/dist-packages/transformers/utils/generic.py\", line 969, in wrapper\r\n",
      "    output = func(self, *args, **kwargs)\r\n",
      "             ^^^^^^^^^^^^^^^^^^^^^^^^^^^\r\n",
      "  File \"/usr/local/lib/python3.11/dist-packages/transformers/models/qwen3/modeling_qwen3.py\", line 730, in forward\r\n",
      "    outputs: BaseModelOutputWithPast = self.model(\r\n",
      "                                       ^^^^^^^^^^^\r\n",
      "  File \"/usr/local/lib/python3.11/dist-packages/torch/nn/modules/module.py\", line 1773, in _wrapped_call_impl\r\n",
      "    return self._call_impl(*args, **kwargs)\r\n",
      "           ^^^^^^^^^^^^^^^^^^^^^^^^^^^^^^^^\r\n",
      "  File \"/usr/local/lib/python3.11/dist-packages/torch/nn/modules/module.py\", line 1784, in _call_impl\r\n",
      "    return forward_call(*args, **kwargs)\r\n",
      "           ^^^^^^^^^^^^^^^^^^^^^^^^^^^^^\r\n",
      "  File \"/usr/local/lib/python3.11/dist-packages/transformers/utils/generic.py\", line 969, in wrapper\r\n",
      "    output = func(self, *args, **kwargs)\r\n",
      "             ^^^^^^^^^^^^^^^^^^^^^^^^^^^\r\n",
      "  File \"/usr/local/lib/python3.11/dist-packages/transformers/models/qwen3/modeling_qwen3.py\", line 463, in forward\r\n",
      "    layer_outputs = decoder_layer(\r\n",
      "                    ^^^^^^^^^^^^^^\r\n",
      "  File \"/usr/local/lib/python3.11/dist-packages/transformers/modeling_layers.py\", line 48, in __call__\r\n",
      "    return super().__call__(*args, **kwargs)\r\n",
      "           ^^^^^^^^^^^^^^^^^^^^^^^^^^^^^^^^^\r\n",
      "  File \"/usr/local/lib/python3.11/dist-packages/torch/nn/modules/module.py\", line 1773, in _wrapped_call_impl\r\n",
      "    return self._call_impl(*args, **kwargs)\r\n",
      "           ^^^^^^^^^^^^^^^^^^^^^^^^^^^^^^^^\r\n",
      "  File \"/usr/local/lib/python3.11/dist-packages/torch/nn/modules/module.py\", line 1784, in _call_impl\r\n",
      "    return forward_call(*args, **kwargs)\r\n",
      "           ^^^^^^^^^^^^^^^^^^^^^^^^^^^^^\r\n",
      "  File \"/usr/local/lib/python3.11/dist-packages/accelerate/hooks.py\", line 175, in new_forward\r\n",
      "    output = module._old_forward(*args, **kwargs)\r\n",
      "             ^^^^^^^^^^^^^^^^^^^^^^^^^^^^^^^^^^^^\r\n",
      "  File \"/usr/local/lib/python3.11/dist-packages/transformers/models/qwen3/modeling_qwen3.py\", line 281, in forward\r\n",
      "    hidden_states = self.input_layernorm(hidden_states)\r\n",
      "                    ^^^^^^^^^^^^^^^^^^^^^^^^^^^^^^^^^^^\r\n",
      "  File \"/usr/local/lib/python3.11/dist-packages/torch/nn/modules/module.py\", line 1773, in _wrapped_call_impl\r\n",
      "    return self._call_impl(*args, **kwargs)\r\n",
      "           ^^^^^^^^^^^^^^^^^^^^^^^^^^^^^^^^\r\n",
      "  File \"/usr/local/lib/python3.11/dist-packages/torch/nn/modules/module.py\", line 1784, in _call_impl\r\n",
      "    return forward_call(*args, **kwargs)\r\n",
      "           ^^^^^^^^^^^^^^^^^^^^^^^^^^^^^\r\n",
      "  File \"/usr/local/lib/python3.11/dist-packages/accelerate/hooks.py\", line 175, in new_forward\r\n",
      "    output = module._old_forward(*args, **kwargs)\r\n",
      "             ^^^^^^^^^^^^^^^^^^^^^^^^^^^^^^^^^^^^\r\n",
      "  File \"/usr/local/lib/python3.11/dist-packages/transformers/models/qwen3/modeling_qwen3.py\", line 72, in forward\r\n",
      "    return self.weight * hidden_states.to(input_dtype)\r\n",
      "           ~~~~~~~~~~~~^~~~~~~~~~~~~~~~~~~~~~~~~~~~~~~\r\n",
      "RuntimeError: Expected all tensors to be on the same device, but found at least two devices, cuda:0 and cuda:1!\r\n"
     ]
    }
   ],
   "source": [
    "%cd /kaggle/working/\n",
    "!python generate_data.py \\\n",
    "  --num_questions 88 \\\n",
    "  --traj_out_file data/traj_chat.jsonl \\\n",
    "  --val_out_file data/traj_val.jsonl \\\n",
    "  --num_sequences_per_question 25 \\\n",
    "  --max_sequence_length 300 \\\n",
    "  --min_sequence_length 100 \\\n",
    "  --temperature 2.0"
   ]
  },
  {
   "cell_type": "code",
   "execution_count": 3,
   "id": "322f3e3e",
   "metadata": {
    "execution": {
     "iopub.execute_input": "2025-10-02T05:13:12.643071Z",
     "iopub.status.busy": "2025-10-02T05:13:12.642826Z",
     "iopub.status.idle": "2025-10-02T05:13:56.205236Z",
     "shell.execute_reply": "2025-10-02T05:13:56.204502Z"
    },
    "executionInfo": {
     "elapsed": 43305,
     "status": "ok",
     "timestamp": 1759318238905,
     "user": {
      "displayName": "Sam Birbeck",
      "userId": "09338901075895847279"
     },
     "user_tz": -570
    },
    "id": "VOHIEBw0MLyf",
    "outputId": "092a9782-3727-4623-a54b-a7a50678d9d4",
    "papermill": {
     "duration": 43.566458,
     "end_time": "2025-10-02T05:13:56.206760",
     "exception": false,
     "start_time": "2025-10-02T05:13:12.640302",
     "status": "completed"
    },
    "tags": []
   },
   "outputs": [
    {
     "name": "stdout",
     "output_type": "stream",
     "text": [
      "/kaggle/working\n",
      "2025-10-02 05:13:18.929047: E external/local_xla/xla/stream_executor/cuda/cuda_fft.cc:477] Unable to register cuFFT factory: Attempting to register factory for plugin cuFFT when one has already been registered\r\n",
      "WARNING: All log messages before absl::InitializeLog() is called are written to STDERR\r\n",
      "E0000 00:00:1759381998.953254      77 cuda_dnn.cc:8310] Unable to register cuDNN factory: Attempting to register factory for plugin cuDNN when one has already been registered\r\n",
      "E0000 00:00:1759381998.961052      77 cuda_blas.cc:1418] Unable to register cuBLAS factory: Attempting to register factory for plugin cuBLAS when one has already been registered\r\n",
      "Arguments saved to results/traj_chat/args.json\r\n",
      "Generating train split: 0 examples [00:00, ? examples/s]\r\n",
      "Traceback (most recent call last):\r\n",
      "  File \"/usr/local/lib/python3.11/dist-packages/datasets/builder.py\", line 1887, in _prepare_split_single\r\n",
      "    num_examples, num_bytes = writer.finalize()\r\n",
      "                              ^^^^^^^^^^^^^^^^^\r\n",
      "  File \"/usr/local/lib/python3.11/dist-packages/datasets/arrow_writer.py\", line 669, in finalize\r\n",
      "    raise SchemaInferenceError(\"Please pass `features` or at least one example when writing data\")\r\n",
      "datasets.arrow_writer.SchemaInferenceError: Please pass `features` or at least one example when writing data\r\n",
      "\r\n",
      "The above exception was the direct cause of the following exception:\r\n",
      "\r\n",
      "Traceback (most recent call last):\r\n",
      "  File \"/kaggle/working/train_loop.py\", line 87, in <module>\r\n",
      "    dataset = load_dataset('json', data_files=data_path)\r\n",
      "              ^^^^^^^^^^^^^^^^^^^^^^^^^^^^^^^^^^^^^^^^^^\r\n",
      "  File \"/usr/local/lib/python3.11/dist-packages/datasets/load.py\", line 2084, in load_dataset\r\n",
      "    builder_instance.download_and_prepare(\r\n",
      "  File \"/usr/local/lib/python3.11/dist-packages/datasets/builder.py\", line 925, in download_and_prepare\r\n",
      "    self._download_and_prepare(\r\n",
      "  File \"/usr/local/lib/python3.11/dist-packages/datasets/builder.py\", line 1001, in _download_and_prepare\r\n",
      "    self._prepare_split(split_generator, **prepare_split_kwargs)\r\n",
      "  File \"/usr/local/lib/python3.11/dist-packages/datasets/builder.py\", line 1742, in _prepare_split\r\n",
      "    for job_id, done, content in self._prepare_split_single(\r\n",
      "  File \"/usr/local/lib/python3.11/dist-packages/datasets/builder.py\", line 1898, in _prepare_split_single\r\n",
      "    raise DatasetGenerationError(\"An error occurred while generating the dataset\") from e\r\n",
      "datasets.exceptions.DatasetGenerationError: An error occurred while generating the dataset\r\n"
     ]
    }
   ],
   "source": [
    "%cd /kaggle/working/\n",
    "!python train_loop.py"
   ]
  }
 ],
 "metadata": {
  "accelerator": "GPU",
  "colab": {
   "gpuType": "T4",
   "provenance": [
    {
     "file_id": "/v2/external/notebooks/gpu.ipynb",
     "timestamp": 1759308377289
    }
   ]
  },
  "kaggle": {
   "accelerator": "nvidiaTeslaT4",
   "dataSources": [
    {
     "databundleVersionId": 13932015,
     "datasetId": 8387482,
     "sourceId": 13236297,
     "sourceType": "datasetVersion"
    },
    {
     "databundleVersionId": 12066702,
     "modelInstanceId": 301511,
     "sourceId": 363131,
     "sourceType": "modelInstanceVersion"
    }
   ],
   "isGpuEnabled": true,
   "isInternetEnabled": false,
   "language": "python",
   "sourceType": "notebook"
  },
  "kernelspec": {
   "display_name": "Python 3",
   "language": "python",
   "name": "python3"
  },
  "language_info": {
   "codemirror_mode": {
    "name": "ipython",
    "version": 3
   },
   "file_extension": ".py",
   "mimetype": "text/x-python",
   "name": "python",
   "nbconvert_exporter": "python",
   "pygments_lexer": "ipython3",
   "version": "3.11.13"
  },
  "papermill": {
   "default_parameters": {},
   "duration": 127.55714,
   "end_time": "2025-10-02T05:13:56.425448",
   "environment_variables": {},
   "exception": null,
   "input_path": "__notebook__.ipynb",
   "output_path": "__notebook__.ipynb",
   "parameters": {},
   "start_time": "2025-10-02T05:11:48.868308",
   "version": "2.6.0"
  }
 },
 "nbformat": 4,
 "nbformat_minor": 5
}
